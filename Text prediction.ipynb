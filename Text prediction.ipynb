{
  "nbformat": 4,
  "nbformat_minor": 2,
  "metadata": {
    "colab": {
      "name": "NLP_CS60075_A21_Assn1.ipynb",
      "provenance": [],
      "collapsed_sections": []
    },
    "kernelspec": {
      "name": "python3",
      "display_name": "Python 3"
    },
    "language_info": {
      "name": "python"
    }
  },
  "cells": [
    {
      "cell_type": "markdown",
      "source": [
        "# **Assignment-1 for CS60075: Natural Language Processing**\n",
        "\n",
        "#### Instructor : Prof. Sudeshna Sarkar\n",
        "\n",
        "#### Teaching Assistants : Alapan Kuila, Aniruddha Roy, Prithwish Jana, Udit Dharmin Desai\n",
        "\n",
        "#### Date of Announcement: 4th Sept, 2021\n",
        "#### Deadline for Submission: 11.59pm on Sunday, 12th Sept, 2021 \n",
        "\n",
        "#### (**NOTE**: Submit a .zip file, containing this .ipynb file, named as `<Your_Roll_Number>_Assn1_NLP_A21.ipynb` and the raw text corpus named `<Your_Roll_Number>_Assn1_rawCorpus.txt`. For example, if your roll number is 20XX12Y45, name the .ipynb file as `20XX12Y45_Assn1_NLP_A21.ipynb`. Name the .zip as `<Your_Roll_Number>_Assn1_NLP_A21.zip`. Write your code in the respective designated portion of the .ipynb. Also before submitting, make sure that all the outputs of your code are present in the .ipynb file itself.)"
      ],
      "metadata": {
        "id": "4Z_wN2v1RT1F"
      }
    },
    {
      "cell_type": "markdown",
      "source": [
        "### **Submission Details:**\n",
        "Name: DHRUV RATHI\n",
        "\n",
        "Roll No.: 20EC10098\n",
        "\n",
        "Department: ELECTRONICS AND ELECTRICAL COMMUNICATION ENGINEERING\n",
        "\n",
        "Email-ID: dhruvrathi04@kgpian.iitkgp.ac.in"
      ],
      "metadata": {
        "id": "3a35tmEySCx7"
      }
    },
    {
      "cell_type": "markdown",
      "source": [
        "## **Reading a Raw Text Corpus**"
      ],
      "metadata": {
        "id": "9weHMmyd8fnq"
      }
    },
    {
      "cell_type": "markdown",
      "source": [
        "Retrieve & save raw corpus"
      ],
      "metadata": {
        "id": "DmSy_LOK2aGQ"
      }
    },
    {
      "cell_type": "code",
      "execution_count": 49,
      "source": [
        "# To construct your corpus, retrieve (through Python code) Chapter I to Chapter X,\r\n",
        "# both inclusive, from the link below:\r\n",
        "# \"https://www.gutenberg.org/files/730/730-0.txt\"\r\n",
        "# Save this corpus in a text file, named as 'rawCorpus.txt'\r\n",
        "# Print the total number of characters in the text file\r\n",
        "\r\n",
        "import requests\r\n",
        "from urllib.request import urlopen\r\n",
        "from bs4 import BeautifulSoup\r\n",
        "\r\n",
        "url = \"https://www.gutenberg.org/files/730/730-0.txt\"\r\n",
        "page = urlopen(url).read()\r\n",
        "#print(page);\r\n",
        "a = BeautifulSoup(page)\r\n",
        "#print(a.find_all('a'))\r\n",
        "a = a.get_text('p')\r\n",
        "a = str(a)\r\n",
        "words = a.split()\r\n",
        "count = 0\r\n",
        "i = 0\r\n",
        "beg = 0\r\n",
        "end = 0\r\n",
        "ans = \"\"\r\n",
        "for word in words:\r\n",
        "  if(word == \"CHAPTER\"):\r\n",
        "    count = count+1\r\n",
        "  if(count>=1 and count<11):\r\n",
        "    ans = ans+\" \"+word\r\n",
        "      \r\n",
        "ans+=\" they went.\"\r\n",
        "\r\n",
        "file1 = open(\"rawCorpus.txt\", 'w')\r\n",
        "file1.write(str(ans))\r\n",
        "file1.close()\r\n",
        "\r\n",
        "# *** Write code ***\r\n",
        "\r\n"
      ],
      "outputs": [],
      "metadata": {
        "id": "rku6rV2ORpZA"
      }
    },
    {
      "cell_type": "markdown",
      "source": [
        "Read the corpus"
      ],
      "metadata": {
        "id": "6KZIOy0Y2hzQ"
      }
    },
    {
      "cell_type": "code",
      "execution_count": 50,
      "source": [
        "# Read the corpus from rawCorpus.txt, in a variable `rawReadCorpus`\r\n",
        "# *** Write code ***\r\n",
        "\r\n",
        "file1 = open(\"rawCorpus.txt\", 'r')\r\n",
        "rawReadCorpus = file1.read()\r\n",
        "print (\"Total # of characters in read dataset: {}\".format(len(rawReadCorpus)))"
      ],
      "outputs": [
        {
          "output_type": "stream",
          "name": "stdout",
          "text": [
            "Total # of characters in read dataset: 148106\n"
          ]
        }
      ],
      "metadata": {
        "id": "DsdBJa_l2l7g",
        "colab": {
          "base_uri": "https://localhost:8080/"
        },
        "outputId": "082f62ff-00ed-47df-f5f9-6c31881d2c18"
      }
    },
    {
      "cell_type": "markdown",
      "source": [
        "## **Installing NLTK**\n",
        "\n",
        "The Natural Language Toolkit ([NLTK](https://www.nltk.org/)) is a Python module that is intended to support research and teaching in NLP or closely related areas. \n",
        "\n",
        "Detailed installation instructions to install NLTK can be found at this [link](https://www.nltk.org/install.html).\n",
        "\n",
        "To ensure uniformity, we suggest to use **python3**. You can download Anaconda3 and create a separate environment to do this assignment, eg.\n",
        "```bash\n",
        "conda create -n myenv python=3.6\n",
        "conda activate myenv\n",
        "```\n",
        "\n",
        "The link to anaconda3 for Windows and Linux is available here https://docs.anaconda.com/anaconda/install/. Subsequently, you can install NLTK through the following commands:\n",
        "```bash\n",
        "sudo pip3 install nltk \n",
        "python3 \n",
        "nltk.download()\n",
        "```"
      ],
      "metadata": {
        "id": "xhkmGsSoV0zG"
      }
    },
    {
      "cell_type": "markdown",
      "source": [
        "## **Preprocessing the corpus**"
      ],
      "metadata": {
        "id": "utKtZeHq4N98"
      }
    },
    {
      "cell_type": "markdown",
      "source": [
        "**Tokenize into words and sentences, using NLTK library:** Using the NLTK modules imported above, retrieve a case-insensitive preprocessed model. Make sure to take care of words like \"\\_will\\_\" (that should ideally appear as \"will\"), \"wouldn't\" (that should ideally appear as a single word, and not multiple tokens) and other occurences of special cases that you find in the raw corpus. "
      ],
      "metadata": {
        "id": "5-LSUX__82Ff"
      }
    },
    {
      "cell_type": "code",
      "execution_count": 51,
      "source": [
        "# Importing modules\r\n",
        "import nltk\r\n",
        "nltk.download('punkt') # For tokenizers\r\n",
        "from nltk.tokenize import word_tokenize,sent_tokenize"
      ],
      "outputs": [
        {
          "output_type": "stream",
          "name": "stdout",
          "text": [
            "[nltk_data] Downloading package punkt to /root/nltk_data...\n",
            "[nltk_data]   Package punkt is already up-to-date!\n"
          ]
        }
      ],
      "metadata": {
        "id": "2g7eO4Dm4jIn",
        "colab": {
          "base_uri": "https://localhost:8080/"
        },
        "outputId": "3023137f-5fcb-4cdc-e94c-a6f3c08ffec8"
      }
    },
    {
      "cell_type": "code",
      "execution_count": 52,
      "source": [
        "# *** Write code for preprocessing the corpus ***\r\n",
        "tokenizer = nltk.tokenize.punkt.PunktSentenceTokenizer()\r\n",
        "tokenizer.tokenize(rawReadCorpus)\r\n",
        "corpus = rawReadCorpus\r\n",
        "\r\n",
        "# Print first 5 sentences of your preprocessed corpus\r\n",
        "sents = nltk.sent_tokenize(corpus)\r\n",
        "for i in range(5):\r\n",
        "  print(sents[i])\r\n",
        "words = nltk.word_tokenize(corpus)\r\n",
        "\r\n",
        "# Print first 5 words/tokens of your preprocessed corpus\r\n",
        "words=[word.lower() for word in words if word.isalpha()]\r\n",
        "print(words[:5])\r\n"
      ],
      "outputs": [
        {
          "output_type": "stream",
          "name": "stdout",
          "text": [
            " CHAPTER I.\n",
            "TREATS OF THE PLACE WHERE OLIVER TWIST WAS BORN AND OF THE CIRCUMSTANCES ATTENDING HIS BIRTH Among other public buildings in a certain town, which for many reasons it will be prudent to refrain from mentioning, and to which I will assign no fictitious name, there is one anciently common to most towns, great or small: to wit, a workhouse; and in this workhouse was born; on a day and date which I need not trouble myself to repeat, inasmuch as it can be of no possible consequence to the reader, in this stage of the business at all events; the item of mortality whose name is prefixed to the head of this chapter.\n",
            "For a long time after it was ushered into this world of sorrow and trouble, by the parish surgeon, it remained a matter of considerable doubt whether the child would survive to bear any name at all; in which case it is somewhat more than probable that these memoirs would never have appeared; or, if they had, that being comprised within a couple of pages, they would have possessed the inestimable merit of being the most concise and faithful specimen of biography, extant in the literature of any age or country.\n",
            "Although I am not disposed to maintain that the being born in a workhouse, is in itself the most fortunate and enviable circumstance that can possibly befall a human being, I do mean to say that in this particular instance, it was the best thing for Oliver Twist that could by possibility have occurred.\n",
            "The fact is, that there was considerable difficulty in inducing Oliver to take upon himself the office of respiration,—a troublesome practice, but one which custom has rendered necessary to our easy existence; and for some time he lay gasping on a little flock mattress, rather unequally poised between this world and the next: the balance being decidedly in favour of the latter.\n",
            "['chapter', 'i', 'treats', 'of', 'the']\n"
          ]
        }
      ],
      "metadata": {
        "id": "cWIzYXyz9Zt_",
        "colab": {
          "base_uri": "https://localhost:8080/"
        },
        "outputId": "8764d870-8638-4d90-dfef-2c4c0c3e9cd1"
      }
    },
    {
      "cell_type": "markdown",
      "source": [
        "**Perform the following tasks for the given corpus:**\n",
        "1. Print the average number of tokens per sentence.\n",
        "2. Print the length of the longest and the shortest sentence, that contains the word 'Oliver' ('Oliver' is case-insensitive).\n",
        "3. Print the number of unique tokens in the corpus, after stopword removal using the stopwords from NLTK (case-insensitive)."
      ],
      "metadata": {
        "id": "eZ75_a1QL70J"
      }
    },
    {
      "cell_type": "code",
      "execution_count": 53,
      "source": [
        "# Importing modules\r\n",
        "nltk.download('stopwords')\r\n",
        "from nltk.corpus import stopwords"
      ],
      "outputs": [
        {
          "output_type": "stream",
          "name": "stdout",
          "text": [
            "[nltk_data] Downloading package stopwords to /root/nltk_data...\n",
            "[nltk_data]   Package stopwords is already up-to-date!\n"
          ]
        }
      ],
      "metadata": {
        "id": "pyG0g3oSADmV",
        "colab": {
          "base_uri": "https://localhost:8080/"
        },
        "outputId": "56ae0156-eb77-4787-9c24-b9c98103d235"
      }
    },
    {
      "cell_type": "code",
      "execution_count": 54,
      "source": [
        "# *** Write code for the 2 tasks above ***\r\n",
        "print(\"The average number of tokens per sentence: \",round(len(words) / len(sents)))\r\n",
        "stop_words = set(stopwords.words('english'))\r\n",
        "final_tokens = []\r\n",
        "ans = []\r\n",
        "\r\n",
        "for each in sents:\r\n",
        "  w = word_tokenize(each)\r\n",
        "  w=[word.lower() for word in w if word.isalpha()]\r\n",
        "  for i in w:\r\n",
        "      if (i == 'oliver'):\r\n",
        "        ans.append(len(w))\r\n",
        "\r\n",
        "\r\n",
        "print(\"Length of the longest sentence, that contains the word \\'Oliver\\'\", max(ans))\r\n",
        "print(\"Length of the shortest sentence, that contains the word \\'Oliver\\'\", min(ans))\r\n",
        "\r\n",
        "for each in words:\r\n",
        "  if each not in stop_words:\r\n",
        "    final_tokens.append(each)\r\n",
        "\r\n",
        "print(\"The number of unique tokens in the corpus, after stopword removal using the stopwords from NLTK \", len(final_tokens))\r\n"
      ],
      "outputs": [
        {
          "output_type": "stream",
          "name": "stdout",
          "text": [
            "The average number of tokens per sentence:  24\n",
            "Length of the longest sentence, that contains the word 'Oliver' 114\n",
            "Length of the shortest sentence, that contains the word 'Oliver' 2\n",
            "The number of unique tokens in the corpus, after stopword removal using the stopwords from NLTK  12354\n"
          ]
        }
      ],
      "metadata": {
        "id": "ydHIxC7lG7Py",
        "colab": {
          "base_uri": "https://localhost:8080/"
        },
        "outputId": "eedce6e6-e7e2-4c21-bc1a-3f8bbd5d8792"
      }
    },
    {
      "cell_type": "markdown",
      "source": [
        "## **Language Modeling**\n"
      ],
      "metadata": {
        "id": "X5RiDR7TJjKX"
      }
    },
    {
      "cell_type": "markdown",
      "source": [
        "### Task: In this sub-task, you are expected to carry out the following tasks:\n",
        "\n",
        "\n",
        "\n",
        "1. **Create the following language models** on the given corpus: <br>\n",
        "    i.   Unigram <br>\n",
        "    ii.  Bigram <br>\n",
        "    iii. Trigram <br>\n",
        "\n",
        "2. **List the top 10 bigrams, trigrams**\n",
        "(Additionally remove those items which contain only articles, prepositions, determiners eg. \"of the\", \"in a\", etc. List top-10 bigrams/trigrams in both the original and processed models)."
      ],
      "metadata": {
        "id": "UJeTSt8HM95L"
      }
    },
    {
      "cell_type": "code",
      "execution_count": 55,
      "source": [
        "from nltk.util import ngrams\r\n",
        "from nltk.corpus import stopwords\r\n",
        "stop_words = set(stopwords.words('english'))\r\n",
        "unigrams=[]\r\n",
        "bigrams=[]\r\n",
        "trigrams=[]\r\n",
        "for content in sents:\r\n",
        "  unigrams.extend(words)\r\n",
        "bigrams.extend(ngrams(words,2))\r\n",
        "trigrams.extend(ngrams(words,3))\r\n",
        "\r\n",
        "\r\n",
        "print (\"Sample of n-grams:\\n\" + \"-------------------------\")\r\n",
        "print (\"--> UNIGRAMS: \\n\" + str(unigrams[:5]) + \" ...\\n\")\r\n",
        "print (\"--> BIGRAMS: \\n\" + str(bigrams[:5]) + \" ...\\n\")\r\n",
        "print (\"--> TRIGRAMS: \\n\" + str(trigrams[:5]) + \" ...\\n\")\r\n",
        "\r\n",
        "# list of unigram, bigram & trigram after removing those that \r\n",
        "# totally contain only articles, prepositions, determiners\r\n",
        "# Eg. For bigrams, don't remove items like (\"a\", \"boy\") --> where not all are \r\n",
        "#     articles, prepositions, determiners\r\n",
        "#     But remove items like (\"in\", \"the\") --> where all are articles, prepositions, determiners\r\n",
        "# Similarly, for unigrams and trigrams\r\n",
        "\r\n",
        "def removing(x):\r\n",
        "  y = []\r\n",
        "  for pair in x:\r\n",
        "    count = 0\r\n",
        "    for word in pair:\r\n",
        "      if(word in stop_words):\r\n",
        "        count = 0;\r\n",
        "      else:\r\n",
        "        count = 1;\r\n",
        "    if(count == 1):\r\n",
        "      y.append(pair)\r\n",
        "  return (y)\r\n",
        "\r\n",
        "unigrams_Processed = [u for u in unigrams if u not in stop_words]# *** Write code ***\r\n",
        "bigrams_Processed = removing(bigrams)\r\n",
        "trigrams_Processed = removing(trigrams)\r\n",
        "\r\n",
        "print (\"Sample of n-grams after processing:\\n\" + \"-------------------------\")\r\n",
        "print (\"--> UNIGRAMS: \\n\" + str(unigrams_Processed[:5]) + \" ...\\n\")\r\n",
        "print (\"--> BIGRAMS: \\n\" + str(bigrams_Processed[:5]) + \" ...\\n\")\r\n",
        "print (\"--> TRIGRAMS: \\n\" + str(trigrams_Processed[:5]) + \" ...\\n\")\r\n",
        "\r\n",
        "def get_ngrams_freqDist(n, ngramList):\r\n",
        "    #This function computes the frequency corresponding to each ngram in ngramList \r\n",
        "    #Here, n=1 for unigram, n=2 for bigram, etc.\r\n",
        "    #ngramList = list of unigrams when n=1, ngramList = list of bigrams when n=2\r\n",
        "    #Returns: ngram_freq_dict (a Python dictionary where key = a ngram, value = its frequency)\r\n",
        "    ngram_freq_dict = nltk.FreqDist(ngramList)\r\n",
        "    # *** Write code ***\r\n",
        "    \r\n",
        "    return ngram_freq_dict\r\n",
        "\r\n",
        "unigrams_freqDist = get_ngrams_freqDist(1, unigrams)\r\n",
        "unigrams_Processed_freqDist = get_ngrams_freqDist(1, unigrams_Processed)\r\n",
        "bigrams_freqDist = get_ngrams_freqDist(2, bigrams_Processed)\r\n",
        "bigrams_Processed_freqDist = get_ngrams_freqDist(2, bigrams_Processed)\r\n",
        "trigrams_freqDist = get_ngrams_freqDist(3, trigrams_Processed)\r\n",
        "trigrams_Processed_freqDist = get_ngrams_freqDist(3, trigrams_Processed)     \r\n",
        "\r\n",
        "print(\"bigrams_freqDist[('the', 'old')]: \",bigrams_freqDist[('the', 'old')])\r\n",
        "\r\n",
        "# Print top 10 unigrams, having highest frequency as in unigrams_freqDist\r\n",
        "# *** Write code ***\r\n",
        "print(\"Top 10 unigrams, having highest frequency as in unigrams_freqDist:\", unigrams_freqDist.most_common(10))\r\n",
        "# Print top 10 unigrams, having highest frequency as in unigrams_Processed_freqDist\r\n",
        "# *** Write code ***\r\n",
        "print(\"Top 10 unigrams, having highest frequency as in unigrams_Processed_freqDist:\", unigrams_Processed_freqDist.most_common(10))\r\n",
        "# Print top 10 bigrams, having highest frequency as in bigrams_freqDist\r\n",
        "# *** Write code ***\r\n",
        "print(\"Top 10 bigrams, having highest frequency as in bigrams_freqDist:\", bigrams_freqDist.most_common(10))\r\n",
        "# Print top 10 bigrams, having highest frequency as in bigrams_Processed_freqDist\r\n",
        "# *** Write code ***\r\n",
        "print(\"Top 10 bigrams, having highest frequency as in bigrams_Processed_freqDist:\", bigrams_Processed_freqDist.most_common(10))\r\n",
        "# Print top 10 trigrams, having highest frequency as in trigrams_freqDist\r\n",
        "# *** Write code ***\r\n",
        "print(\"Top 10 trigrams, having highest frequency as in trigrams_freqDist:\", trigrams_freqDist.most_common(10))\r\n",
        "# Print top 10 trigrams, having highest frequency as in trigrams_Processed_freqDist\r\n",
        "# *** Write code ***\r\n",
        "print(\"Top 10 trigrams, having highest frequency as in trigrams_Processed_freqDist:\", trigrams_Processed_freqDist.most_common(10))"
      ],
      "outputs": [
        {
          "output_type": "stream",
          "name": "stdout",
          "text": [
            "Sample of n-grams:\n",
            "-------------------------\n",
            "--> UNIGRAMS: \n",
            "['chapter', 'i', 'treats', 'of', 'the'] ...\n",
            "\n",
            "--> BIGRAMS: \n",
            "[('chapter', 'i'), ('i', 'treats'), ('treats', 'of'), ('of', 'the'), ('the', 'place')] ...\n",
            "\n",
            "--> TRIGRAMS: \n",
            "[('chapter', 'i', 'treats'), ('i', 'treats', 'of'), ('treats', 'of', 'the'), ('of', 'the', 'place'), ('the', 'place', 'where')] ...\n",
            "\n",
            "Sample of n-grams after processing:\n",
            "-------------------------\n",
            "--> UNIGRAMS: \n",
            "['chapter', 'treats', 'place', 'oliver', 'twist'] ...\n",
            "\n",
            "--> BIGRAMS: \n",
            "[('i', 'treats'), ('the', 'place'), ('where', 'oliver'), ('oliver', 'twist'), ('was', 'born')] ...\n",
            "\n",
            "--> TRIGRAMS: \n",
            "[('chapter', 'i', 'treats'), ('of', 'the', 'place'), ('place', 'where', 'oliver'), ('where', 'oliver', 'twist'), ('twist', 'was', 'born')] ...\n",
            "\n",
            "bigrams_freqDist[('the', 'old')]:  54\n",
            "Top 10 unigrams, having highest frequency as in unigrams_freqDist: [('the', 1862104), ('and', 938176), ('a', 781448), ('of', 737608), ('to', 675136), ('he', 509640), ('his', 498680), ('in', 483336), ('was', 403328), ('oliver', 333184)]\n",
            "Top 10 unigrams, having highest frequency as in unigrams_Processed_freqDist: [('oliver', 333184), ('said', 232352), ('bumble', 143576), ('gentleman', 117272), ('old', 97544), ('sowerberry', 87680), ('would', 84392), ('boy', 82200), ('replied', 81104), ('one', 76720)]\n",
            "Top 10 bigrams, having highest frequency as in bigrams_freqDist: [(('the', 'old'), 54), (('the', 'undertaker'), 45), (('old', 'gentleman'), 43), (('the', 'boy'), 37), (('the', 'jew'), 36), (('the', 'gentleman'), 34), (('the', 'beadle'), 31), (('oliver', 'twist'), 28), (('the', 'board'), 26), (('the', 'dodger'), 26)]\n",
            "Top 10 bigrams, having highest frequency as in bigrams_Processed_freqDist: [(('the', 'old'), 54), (('the', 'undertaker'), 45), (('old', 'gentleman'), 43), (('the', 'boy'), 37), (('the', 'jew'), 36), (('the', 'gentleman'), 34), (('the', 'beadle'), 31), (('oliver', 'twist'), 28), (('the', 'board'), 26), (('the', 'dodger'), 26)]\n",
            "Top 10 trigrams, having highest frequency as in trigrams_freqDist: [(('the', 'old', 'gentleman'), 34), (('the', 'white', 'waistcoat'), 20), (('in', 'the', 'white'), 18), (('said', 'the', 'undertaker'), 17), (('said', 'the', 'gentleman'), 15), (('said', 'the', 'jew'), 14), (('sir', 'replied', 'oliver'), 12), (('my', 'dear', 'said'), 11), (('said', 'the', 'old'), 10), (('the', 'old', 'woman'), 8)]\n",
            "Top 10 trigrams, having highest frequency as in trigrams_Processed_freqDist: [(('the', 'old', 'gentleman'), 34), (('the', 'white', 'waistcoat'), 20), (('in', 'the', 'white'), 18), (('said', 'the', 'undertaker'), 17), (('said', 'the', 'gentleman'), 15), (('said', 'the', 'jew'), 14), (('sir', 'replied', 'oliver'), 12), (('my', 'dear', 'said'), 11), (('said', 'the', 'old'), 10), (('the', 'old', 'woman'), 8)]\n"
          ]
        }
      ],
      "metadata": {
        "id": "DlPXGvVaR-ka",
        "colab": {
          "base_uri": "https://localhost:8080/"
        },
        "outputId": "131752c5-d276-4209-bc2c-402402b83ca3"
      }
    },
    {
      "cell_type": "markdown",
      "source": [
        "## **Next three words' Prediction using Smoothed Models**"
      ],
      "metadata": {
        "id": "Lqu8nVV7NREo"
      }
    },
    {
      "cell_type": "markdown",
      "source": [
        "For a bigram model, add-one smoothing is defined by $P_{Add-1}(w_i|w_{i-1})=\\frac{count(w_{i-1},w_i)+1}{count(w_{i-1})+V}$.\n",
        "That is, pretend we saw each word one more time than we did.\n",
        "\n",
        "You have two tasks here.\n",
        "\n",
        "First, compute the smoothed bigram and trigram models from the bigrams_freqDist and trigrams_freqDist you calculated above (use the unprocessed models). Second, using these smoothed models, predict the next 3 possible word sequences for testSent1, testSent2 and testSent3, using your smoothed models.\n",
        "\n",
        "As for example, for the string 'Raj has a' the answers can be as below: \n",
        "\n",
        "(1) Raj has a **beautiful red car**\n",
        "\n",
        "(2) Raj has a **charismatic magnetic personality**"
      ],
      "metadata": {
        "id": "a2vnIM26b2WA"
      }
    },
    {
      "cell_type": "code",
      "execution_count": 56,
      "source": [
        "testSent1 = \"There was a sudden jerk, a terrific convulsion of the limbs; and there he\"\n",
        "testSent2 = \"They made room for the stranger, but he sat down\"\n",
        "testSent3 = \"The hungry and destitute situation of the infant orphan was duly reported by\""
      ],
      "outputs": [],
      "metadata": {
        "id": "qAGB1_S8NThy"
      }
    },
    {
      "cell_type": "code",
      "execution_count": 65,
      "source": [
        "# *** Write code ***\n",
        "# Code for add-one smoothing\n",
        "ngrams_all = {1:unigrams, 2:bigrams, 3:trigrams}\n",
        "\n",
        "ngrams_voc = {1:set(unigrams), 2:set(bigrams), 3:set(trigrams)}\n",
        "\n",
        "\n",
        "total_ngrams = {1:-1, 2:-1, 3:-1}\n",
        "total_voc = {1:-1, 2:-1, 3:-1}\n",
        "for i in range(3):\n",
        "  total_ngrams[i+1] = len(ngrams_all[i+1])\n",
        "  total_voc[i+1] = len(ngrams_voc[i+1])\n",
        "\n",
        "ngrams_probs={1:unigrams_freqDist.most_common(), 2:bigrams_freqDist.most_common(), 3:trigrams_freqDist.most_common()}\n",
        "\n",
        "ngrams_prob = {1:[], 2:[], 3:[]}\n",
        "for i in range(3):\n",
        "  for ngram in ngrams_probs[i+1]:\n",
        "    l=[ngram[0], ngram[-1]]\n",
        "    ngrams_prob[i+1].append(l)\n",
        "\n",
        "for i in range(3):\n",
        "  for ngram in ngrams_prob[i+1]:\n",
        "    ngram[-1] = (ngram[-1]+1)/(total_ngrams[i+1]+total_voc[i+1])\n",
        "\n",
        "print (\"Most common unigrams: \", str(ngrams_prob[1][:10]))\n",
        "print (\"\\nMost common bigrams: \", str(ngrams_prob[2][:10]))\n",
        "print (\"\\nMost common trigrams: \", str(ngrams_prob[3][:10]))\n",
        "\n",
        "\n",
        "\n",
        "\n",
        "\n"
      ],
      "outputs": [
        {
          "output_type": "stream",
          "name": "stdout",
          "text": [
            "Most common unigrams:  [['the', 0.06586130356221298], ['and', 0.03318264017984286], ['a', 0.027639284469666195], ['of', 0.02608869545982657], ['to', 0.023879106120805103], ['he', 0.018025632608660514], ['his', 0.017637985356200606], ['in', 0.017095279202756736], ['was', 0.01426545425979942], ['oliver', 0.011784511844056019]]\n",
            "\n",
            "Most common bigrams:  [[('the', 'old'), 0.0012902620404907689], [('the', 'undertaker'), 0.0010791282520468248], [('old', 'gentleman'), 0.001032209632392615], [('the', 'boy'), 0.0008914537734299857], [('the', 'jew'), 0.0008679944636028808], [('the', 'gentleman'), 0.000821075843948671], [('the', 'beadle'), 0.0007506979144673564], [('oliver', 'twist'), 0.0006803199849860417], [('the', 'board'), 0.000633401365331832], [('the', 'dodger'), 0.000633401365331832]]\n",
            "\n",
            "Most common trigrams:  [[('the', 'old', 'gentleman'), 0.0007037156184654978], [('the', 'white', 'waistcoat'), 0.0004222293710792987], [('in', 'the', 'white'), 0.0003820170500241274], [('said', 'the', 'undertaker'), 0.00036191088949654175], [('said', 'the', 'gentleman'), 0.00032169856844137045], [('said', 'the', 'jew'), 0.0003015924079137848], [('sir', 'replied', 'oliver'), 0.0002613800868586135], [('my', 'dear', 'said'), 0.00024127392633102783], [('said', 'the', 'old'), 0.00022116776580344218], [('the', 'old', 'woman'), 0.00018095544474827088]]\n"
          ]
        }
      ],
      "metadata": {
        "id": "yLY1ymH-ZuJu",
        "colab": {
          "base_uri": "https://localhost:8080/"
        },
        "outputId": "44d33fe9-f11d-417a-bd9d-5f735606d46e"
      }
    },
    {
      "cell_type": "code",
      "execution_count": 64,
      "source": [
        "\n",
        "\n",
        "# Function for prediction next word.\n",
        "def prediction(testSent):\n",
        "  ngram = {1:[], 2:[], 3:[]}   #to store the n-grams formed\n",
        "  token = word_tokenize(testSent)\n",
        "  for i in range(3):\n",
        "      ngram[i+1] = list(ngrams(token, i+1))[-1]\n",
        "  for i in range(3):\n",
        "      ngrams_prob[i+1] = sorted(ngrams_prob[i+1], key = lambda x:x[1], reverse = True)\n",
        "      \n",
        "  pred = {1:[], 2:[]}\n",
        "  for i in range(2):\n",
        "      count = 0\n",
        "      for each in ngrams_prob[i+2]:\n",
        "          if each[0][:-1] == ngram[i+1]:      \n",
        "  #to find predictions based on highest probability of n-grams  \n",
        "                  \n",
        "              count +=1\n",
        "              pred[i+1].append(each[0][-1])\n",
        "              if count ==5:\n",
        "                  break\n",
        "      if count<5:\n",
        "          while(count!=5):\n",
        "              pred[i+1].append(\"NOT FOUND\")           \n",
        "  #if no word prediction is found, replace with NOT FOUND\n",
        "              count +=1\n",
        "  #print(\"Pred:\",pred)\n",
        "  return pred\n",
        "\n",
        "# Function to get next 3 words.\n",
        "\n",
        "def getAns(testSent):\n",
        "  finalSentB = testSent\n",
        "  finalSentT = finalSentB\n",
        "  for i in range(3):\n",
        "    ans = prediction(finalSentB)\n",
        "    finalSentB = finalSentB+\" \"+ans[1][0]\n",
        "  for i in range(3):\n",
        "    ans1 = prediction(finalSentT)\n",
        "    finalSentT = finalSentT+\" \"+ans1[2][0]\n",
        "  print(\"Bigram model predictions:\\n\",finalSentB,\"\\nTrigram model predictions:\\n\",finalSentT)\n",
        "\n",
        "\n",
        "getAns(testSent1)\n",
        "getAns(testSent2)\n",
        "getAns(testSent3)\n",
        "\n",
        "\n"
      ],
      "outputs": [
        {
          "output_type": "stream",
          "name": "stdout",
          "text": [
            "Bigram model predictions:\n",
            " There was a sudden jerk, a terrific convulsion of the limbs; and there he would never known \n",
            "Trigram model predictions:\n",
            " There was a sudden jerk, a terrific convulsion of the limbs; and there he sat shivering NOT FOUND\n",
            "Bigram model predictions:\n",
            " They made room for the stranger, but he sat down upon porochial business \n",
            "Trigram model predictions:\n",
            " They made room for the stranger, but he sat down NOT FOUND NOT FOUND NOT FOUND\n",
            "Bigram model predictions:\n",
            " The hungry and destitute situation of the infant orphan was duly reported by bumble sir replied \n",
            "Trigram model predictions:\n",
            " The hungry and destitute situation of the infant orphan was duly reported by NOT FOUND NOT FOUND NOT FOUND\n"
          ]
        }
      ],
      "metadata": {
        "colab": {
          "base_uri": "https://localhost:8080/"
        },
        "id": "cgftgCr8McKW",
        "outputId": "99948123-b44c-4104-b8f6-900866de4a19"
      }
    },
    {
      "cell_type": "markdown",
      "source": [
        "Check the presence of these sentences in the original corpus at https://www.gutenberg.org/files/730/730-0.txt . How did your smoothed models perform in comparison to the original sentences? Compare them below.\n",
        "\n",
        "Did you notice something special about testSent3, in comparison to testSent1 and testSent2? If yes, what is it? Can you explain it?\n",
        "\n"
      ],
      "metadata": {
        "id": "rxfeaacTdO6h"
      }
    },
    {
      "cell_type": "markdown",
      "source": [
        "  - - - - - - - - - -\n",
        " Yes testSent3 is different form the other 2. \n",
        "\n",
        "The testSent3 is inside our corpus while the other two are outside the corpus.\n",
        "\n",
        "Also inspite of being inside the corpus it is not predicted correctly. This is because it has '\\n' character.\n",
        "   - - - - - - - - - -"
      ],
      "metadata": {
        "id": "nFMkW9hKecxK"
      }
    },
    {
      "cell_type": "markdown",
      "source": [
        "Which of the three models you generated above (unigram, bigram, trigram) is better in terms of **perplexity**, for the three test sentences (unseen data)? Write a piece of code to justify your answer. "
      ],
      "metadata": {
        "id": "vVBMcaAJXR9S"
      }
    },
    {
      "cell_type": "markdown",
      "source": [
        "  - - - - - - - - - -\n",
        "  We know Perplexity(PP(W)): P(w1*w2.....*wN)^(-1/N)\n",
        "\n",
        "  Thus, better language models will have lower perplexity.\n",
        "\n",
        "As Trigram model will have lower value of Perplexity it will be better.\n",
        "   - - - - - - - - - -"
      ],
      "metadata": {
        "id": "AAPa1OVZX8uN"
      }
    }
  ]
}